{
 "cells": [
  {
   "cell_type": "markdown",
   "id": "d605e716",
   "metadata": {},
   "source": [
    "# <font color='red' style='font-size: 30px;'> Rede Complexa Baseada em CDR's </font>\n",
    "<hr style='border: 2px solid red;'>"
   ]
  },
  {
   "cell_type": "markdown",
   "id": "a78f16c2",
   "metadata": {},
   "source": [
    "## <font color = 'black' style='font-size: 26px;'> Imports </font>  \n",
    "<hr style = 'border: 1.5px solid black;'>"
   ]
  },
  {
   "cell_type": "code",
   "execution_count": 1,
   "id": "e14f7343",
   "metadata": {},
   "outputs": [],
   "source": [
    "# Lista de Imports\n",
    "import pandas as pd\n",
    "import numpy as np\n",
    "import networkx as nx\n",
    "from functions import save_with_pickle, load_with_pickle\n",
    "\n",
    "# Variáveis Globais\n",
    "EXECUTAR = True"
   ]
  },
  {
   "cell_type": "markdown",
   "id": "25d389ad",
   "metadata": {},
   "source": [
    "## <font color = 'black' style='font-size: 26px;'> Importando os Dados </font>  \n",
    "<hr style = 'border: 1.5px solid black;'>"
   ]
  },
  {
   "cell_type": "code",
   "execution_count": 2,
   "id": "cb56957f",
   "metadata": {},
   "outputs": [],
   "source": [
    "# Importação dos Dados\n",
    "names=['Data', 'Hora', 'Duração', 'DDD_Origem', 'ID_Origem', 'DDD_Destino', 'ID_Destino', 'Antena', 'Vazio', 'ID_Tipo_Ligação', 'Abrangência_Ligação', 'Operadora_Antena_Origem', 'Operadora_Antena_Destino', 'Categoria_USER', 'X']\n",
    "dataset = pd.read_csv('../Dados/DadosBrutos/cdr_Uberlândia.txt', sep=';', names=names)"
   ]
  },
  {
   "cell_type": "code",
   "execution_count": 3,
   "id": "e014e584",
   "metadata": {},
   "outputs": [
    {
     "data": {
      "text/html": [
       "<div>\n",
       "<style scoped>\n",
       "    .dataframe tbody tr th:only-of-type {\n",
       "        vertical-align: middle;\n",
       "    }\n",
       "\n",
       "    .dataframe tbody tr th {\n",
       "        vertical-align: top;\n",
       "    }\n",
       "\n",
       "    .dataframe thead th {\n",
       "        text-align: right;\n",
       "    }\n",
       "</style>\n",
       "<table border=\"1\" class=\"dataframe\">\n",
       "  <thead>\n",
       "    <tr style=\"text-align: right;\">\n",
       "      <th></th>\n",
       "      <th>Data</th>\n",
       "      <th>Hora</th>\n",
       "      <th>Duração</th>\n",
       "      <th>DDD_Origem</th>\n",
       "      <th>ID_Origem</th>\n",
       "      <th>DDD_Destino</th>\n",
       "      <th>ID_Destino</th>\n",
       "      <th>Antena</th>\n",
       "      <th>ID_Tipo_Ligação</th>\n",
       "      <th>Abrangência_Ligação</th>\n",
       "      <th>Operadora_Antena_Origem</th>\n",
       "      <th>Operadora_Antena_Destino</th>\n",
       "      <th>Categoria_USER</th>\n",
       "    </tr>\n",
       "  </thead>\n",
       "  <tbody>\n",
       "    <tr>\n",
       "      <th>0</th>\n",
       "      <td>2013-04-16</td>\n",
       "      <td>08:10:26</td>\n",
       "      <td>0.55</td>\n",
       "      <td>84</td>\n",
       "      <td>F28A7CC2643468F06C81510658872E07</td>\n",
       "      <td>84</td>\n",
       "      <td>4EB08BB3316C38C499820B95DF87A725</td>\n",
       "      <td>55061</td>\n",
       "      <td>117</td>\n",
       "      <td>LOCAL</td>\n",
       "      <td>OI</td>\n",
       "      <td>OI</td>\n",
       "      <td>POS PAGO</td>\n",
       "    </tr>\n",
       "    <tr>\n",
       "      <th>1</th>\n",
       "      <td>2013-04-16</td>\n",
       "      <td>13:38:23</td>\n",
       "      <td>0.77</td>\n",
       "      <td>84</td>\n",
       "      <td>565580EB8FDD16750497A4565ECDBFF8</td>\n",
       "      <td>84</td>\n",
       "      <td>C6C73DC14A20986650521214ADD8537D</td>\n",
       "      <td>55021</td>\n",
       "      <td>117</td>\n",
       "      <td>LOCAL</td>\n",
       "      <td>OI</td>\n",
       "      <td>OI</td>\n",
       "      <td>PRE PAGO</td>\n",
       "    </tr>\n",
       "    <tr>\n",
       "      <th>2</th>\n",
       "      <td>2013-04-16</td>\n",
       "      <td>09:18:36</td>\n",
       "      <td>4.05</td>\n",
       "      <td>84</td>\n",
       "      <td>565580EB8FDD16750497A4565ECDBFF8</td>\n",
       "      <td>84</td>\n",
       "      <td>C6C73DC14A20986650521214ADD8537D</td>\n",
       "      <td>55021</td>\n",
       "      <td>117</td>\n",
       "      <td>LOCAL</td>\n",
       "      <td>OI</td>\n",
       "      <td>OI</td>\n",
       "      <td>PRE PAGO</td>\n",
       "    </tr>\n",
       "  </tbody>\n",
       "</table>\n",
       "</div>"
      ],
      "text/plain": [
       "         Data      Hora  Duração  DDD_Origem  \\\n",
       "0  2013-04-16  08:10:26     0.55          84   \n",
       "1  2013-04-16  13:38:23     0.77          84   \n",
       "2  2013-04-16  09:18:36     4.05          84   \n",
       "\n",
       "                          ID_Origem  DDD_Destino  \\\n",
       "0  F28A7CC2643468F06C81510658872E07           84   \n",
       "1  565580EB8FDD16750497A4565ECDBFF8           84   \n",
       "2  565580EB8FDD16750497A4565ECDBFF8           84   \n",
       "\n",
       "                         ID_Destino  Antena  ID_Tipo_Ligação  \\\n",
       "0  4EB08BB3316C38C499820B95DF87A725   55061              117   \n",
       "1  C6C73DC14A20986650521214ADD8537D   55021              117   \n",
       "2  C6C73DC14A20986650521214ADD8537D   55021              117   \n",
       "\n",
       "  Abrangência_Ligação Operadora_Antena_Origem Operadora_Antena_Destino  \\\n",
       "0               LOCAL                      OI                       OI   \n",
       "1               LOCAL                      OI                       OI   \n",
       "2               LOCAL                      OI                       OI   \n",
       "\n",
       "  Categoria_USER  \n",
       "0       POS PAGO  \n",
       "1       PRE PAGO  \n",
       "2       PRE PAGO  "
      ]
     },
     "execution_count": 3,
     "metadata": {},
     "output_type": "execute_result"
    }
   ],
   "source": [
    "# Remoção de instâncias duplicadas e colunas inúteis.\n",
    "dataset.drop_duplicates(inplace=True)\n",
    "dataset.drop(['Vazio', 'X'], axis=1, inplace=True)\n",
    "dataset.head(3)"
   ]
  },
  {
   "cell_type": "markdown",
   "id": "bacdb18d",
   "metadata": {},
   "source": [
    "## <font color = 'black' style='font-size: 26px;'> Realizando o Pré-Processamento </font>  \n",
    "<hr style = 'border: 1.5px solid black;'>"
   ]
  },
  {
   "cell_type": "code",
   "execution_count": 4,
   "id": "7493d7af",
   "metadata": {},
   "outputs": [
    {
     "data": {
      "text/plain": [
       "(13792553, 13)"
      ]
     },
     "execution_count": 4,
     "metadata": {},
     "output_type": "execute_result"
    }
   ],
   "source": [
    "# Selecionando as ligações com duração maiores que 10 segundos\n",
    "df = dataset[dataset['Duração'] >= 0.16]\n",
    "df.shape"
   ]
  },
  {
   "cell_type": "code",
   "execution_count": 5,
   "id": "1f82cefd",
   "metadata": {},
   "outputs": [
    {
     "data": {
      "text/plain": [
       "30"
      ]
     },
     "execution_count": 5,
     "metadata": {},
     "output_type": "execute_result"
    }
   ],
   "source": [
    "len(df['Data'].unique())"
   ]
  },
  {
   "cell_type": "code",
   "execution_count": 7,
   "id": "b5606dc6",
   "metadata": {},
   "outputs": [],
   "source": [
    "df = df.groupby(['ID_Origem', 'ID_Destino']).filter(lambda x: len(x) >= 5)"
   ]
  },
  {
   "cell_type": "code",
   "execution_count": 8,
   "id": "5916648c",
   "metadata": {},
   "outputs": [
    {
     "data": {
      "text/plain": [
       "ID_Origem\n",
       "98CFB759D141A2C9A554E93D9C262B3A    500\n",
       "A79A70BDF9FC444794B5AE88B93F23F8    500\n",
       "F6730452DB5B2D6C2683DFDEEB850C96    499\n",
       "A91057B79D052FE07C0690F20838DD0A    499\n",
       "161FB4ADAEA6AD07D766D012632D2423    499\n",
       "                                   ... \n",
       "659F2025A58FD196A6D9E0EBD299E46C      5\n",
       "FC22CF9F1F3B1C160C3C17963156E021      5\n",
       "DC31D62949DA791A474013C546EACF4B      5\n",
       "E5EF4FFF1DF0DF9CFF69F6A3016F71E3      5\n",
       "3C1ACC5E015475DE21FDF1B95E1B9361      5\n",
       "Name: count, Length: 162263, dtype: int64"
      ]
     },
     "execution_count": 8,
     "metadata": {},
     "output_type": "execute_result"
    }
   ],
   "source": [
    "agrup_origem = df.groupby(by='ID_Origem').filter(lambda x: len(x) <= 500)['ID_Origem']\n",
    "agrup_origem.value_counts()"
   ]
  },
  {
   "cell_type": "code",
   "execution_count": 9,
   "id": "47963e55",
   "metadata": {},
   "outputs": [
    {
     "data": {
      "text/plain": [
       "ID_Destino\n",
       "7056934EAF493D57292F19D72485FFC6    491\n",
       "06BFBD16BC9FE948D8AEA8202687A4FA    488\n",
       "673D347524730EEE06BF69FD5AE89AA1    478\n",
       "9911566765F9CFC25B46156409560204    476\n",
       "EFD0779920C36ADD5A323011B752EE68    470\n",
       "                                   ... \n",
       "536557B4CB993719D5BBF92CC03DC469      5\n",
       "8DF631D1DDE95031FB84078028E680C5      5\n",
       "98DCEE79720DCA8936A420EAFA7083A9      5\n",
       "ECA030E7D2640773FA0EAFF215FDB157      5\n",
       "9C481C23251264799C3637AE478DE70C      5\n",
       "Name: count, Length: 338810, dtype: int64"
      ]
     },
     "execution_count": 9,
     "metadata": {},
     "output_type": "execute_result"
    }
   ],
   "source": [
    "agrup_destino = df.groupby(by='ID_Destino').filter(lambda x: len(x) <= 500)['ID_Destino']\n",
    "agrup_destino.value_counts()"
   ]
  },
  {
   "cell_type": "code",
   "execution_count": 10,
   "id": "d862ad1a",
   "metadata": {},
   "outputs": [
    {
     "data": {
      "text/plain": [
       "387894"
      ]
     },
     "execution_count": 10,
     "metadata": {},
     "output_type": "execute_result"
    }
   ],
   "source": [
    "# Todos os IDs que fizeram ou receberam mais de 5 ligações\n",
    "nos = np.unique(np.append(agrup_origem, agrup_destino))\n",
    "len(nos)"
   ]
  },
  {
   "cell_type": "code",
   "execution_count": 11,
   "id": "9a2ff58c",
   "metadata": {},
   "outputs": [
    {
     "data": {
      "text/plain": [
       "(8171158, 13)"
      ]
     },
     "execution_count": 11,
     "metadata": {},
     "output_type": "execute_result"
    }
   ],
   "source": [
    "df = df.query(\"ID_Origem in @nos | ID_Destino in @nos\")\n",
    "df.shape"
   ]
  },
  {
   "cell_type": "code",
   "execution_count": 12,
   "id": "9a325d3c",
   "metadata": {},
   "outputs": [],
   "source": [
    "if EXECUTAR:    \n",
    "    # Instanciando o dicionário\n",
    "    users = {}\n",
    "    for ID in df['ID_Origem'].unique():\n",
    "        users[ID] = {'Ligações': list(), 'Data': list(), 'Hora': list(), 'Duração': list(), 'Antena': list()}\n",
    "        \n",
    "    # Agrupando as ligações em um dicionário    \n",
    "    for _, row in df.iterrows():\n",
    "        users[row['ID_Origem']]['Ligações'].append(row['ID_Destino'])\n",
    "        users[row['ID_Origem']]['Data'].append(row['Data'])\n",
    "        users[row['ID_Origem']]['Hora'].append(row['Hora'])\n",
    "        users[row['ID_Origem']]['Duração'].append(row['Duração'])\n",
    "        users[row['ID_Origem']]['Antena'].append(row['Antena'])\n",
    "    \n",
    "    # Salva o dicionário em um objeto pickle\n",
    "    save_with_pickle(users, '../Dados/Processados/', 'dict_dados')\n",
    "    \n",
    "else:\n",
    "    # Carrega o dicionário em um objeto pickle\n",
    "    users = load_with_pickle('../Dados/Processados/', 'dict_dados')"
   ]
  },
  {
   "cell_type": "markdown",
   "id": "81a6dace",
   "metadata": {},
   "source": [
    "## <font color = 'black' style='font-size: 26px;'> Criando a Rede </font>  \n",
    "<hr style = 'border: 1.5px solid black;'>"
   ]
  },
  {
   "cell_type": "code",
   "execution_count": 13,
   "id": "918caa25",
   "metadata": {},
   "outputs": [],
   "source": [
    "def contabiliza_ligacoes(origem, destino, dicionario):\n",
    "    total = 0\n",
    "    if origem in dicionario:\n",
    "        total += dicionario[origem]['Ligações'].count(destino)\n",
    "        \n",
    "    if destino in dicionario:\n",
    "        total += dicionario[destino]['Ligações'].count(origem)\n",
    "        \n",
    "    return total    "
   ]
  },
  {
   "cell_type": "code",
   "execution_count": 14,
   "id": "5f1ce8b0",
   "metadata": {},
   "outputs": [],
   "source": [
    "def inicializa_grafo(nos):\n",
    "    grafo = nx.Graph() \n",
    "    for i in nos:\n",
    "        grafo.add_node(i)\n",
    "    return grafo"
   ]
  },
  {
   "cell_type": "code",
   "execution_count": 22,
   "id": "1011e4c5",
   "metadata": {},
   "outputs": [],
   "source": [
    "def cria_arestas(grafo, nos, dicionario):\n",
    "    \n",
    "    # Cria arestas entre todos os nós da lista\n",
    "    for i in dicionario.keys():\n",
    "        for j in dicionario[i]['Ligações']:\n",
    "            if not grafo.has_edge(i, j):\n",
    "                grafo.add_edge(i, j)\n",
    "    return grafo"
   ]
  },
  {
   "cell_type": "code",
   "execution_count": 20,
   "id": "d6069962",
   "metadata": {},
   "outputs": [],
   "source": [
    "def gera_grafo(nos, dicionario):    \n",
    "    grafo = inicializa_grafo(nos)\n",
    "    grafo = cria_arestas(grafo, nos, dicionario)\n",
    "    return grafo"
   ]
  },
  {
   "cell_type": "code",
   "execution_count": 23,
   "id": "e68af204",
   "metadata": {},
   "outputs": [],
   "source": [
    "grafo = gera_grafo(nos, users)\n",
    "nx.write_graphml(grafo, \"cdr_grafo.graphml\")"
   ]
  }
 ],
 "metadata": {
  "kernelspec": {
   "display_name": "Python 3 (ipykernel)",
   "language": "python",
   "name": "python3"
  },
  "language_info": {
   "codemirror_mode": {
    "name": "ipython",
    "version": 3
   },
   "file_extension": ".py",
   "mimetype": "text/x-python",
   "name": "python",
   "nbconvert_exporter": "python",
   "pygments_lexer": "ipython3",
   "version": "3.10.9"
  }
 },
 "nbformat": 4,
 "nbformat_minor": 5
}
